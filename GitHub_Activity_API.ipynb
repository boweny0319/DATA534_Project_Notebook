{
 "cells": [
  {
   "cell_type": "code",
   "execution_count": 1,
   "id": "afb2fc78-2b49-4e5d-a552-3b45fdc9b0dd",
   "metadata": {},
   "outputs": [],
   "source": [
    "library(httr)"
   ]
  },
  {
   "cell_type": "code",
   "execution_count": 131,
   "id": "1d15ec47-d99b-40ef-9e27-f3024a8ab488",
   "metadata": {},
   "outputs": [],
   "source": [
    "github_api <- function(path,per_page,page) {\n",
    "    \n",
    "    if(!is.numeric(per_page)){\n",
    "        stop(\"The per_page parameter should not be non-numerical value\")\n",
    "    }\n",
    "    \n",
    "    if(!is.numeric(page)){\n",
    "        stop(\"The page parameter should not be non-numerical value\")\n",
    "    }\n",
    "    \n",
    "    if (per_page < 1 || per_page > 100 || per_page != round(per_page)) {\n",
    "        stop(\"The per_page parameter should be a integer between 1 and 100 (inclusive)\", call. = FALSE)\n",
    "    }\n",
    "    \n",
    "    if (page < 1 || page != round(page)) {\n",
    "        stop(\"The page parameter should be a positive integer\", call. = FALSE)\n",
    "    }\n",
    "    \n",
    "    query <- list(per_page=per_page,page=page)\n",
    "    \n",
    "    url <- modify_url(\"https://api.github.com\", path = path)\n",
    "    response <- GET(url, add_headers(accept = \"application/vnd.github.v3+json\"), query = query, authenticate(\"username\", \"token\"))\n",
    "    \n",
    "    if (http_error(response)) {\n",
    "        stop(\"GitHub API request failed\", call. = FALSE)\n",
    "    }\n",
    "    \n",
    "    if (http_type(response) != \"application/json\") {\n",
    "        stop(\"API did not return json\", call. = FALSE)\n",
    "    }\n",
    "    response\n",
    "}\n",
    "\n",
    "format_response <- function(response,output_type) {\n",
    "    result <- NULL\n",
    "    if (output_type == \"list\") {\n",
    "        result <- jsonlite::fromJSON(content(response, \"text\"), simplifyVector = FALSE)\n",
    "    } else if (output_type == \"dataframe\") {\n",
    "        result <- jsonlite::fromJSON(rawToChar(response$content),flatten = TRUE)\n",
    "    } else if (output_type == \"character\") {\n",
    "        result <- rawToChar(response$content)\n",
    "    } else if (output_type == \"raw\") {\n",
    "        result <- response\n",
    "    } else {\n",
    "        stop(\"Unexpected output type, possible values are: 'list', 'dataframe', 'character'\")\n",
    "    }\n",
    "    \n",
    "    result\n",
    "}"
   ]
  },
  {
   "cell_type": "code",
   "execution_count": 34,
   "id": "b159e055-8e23-4b4e-94f8-748687df9982",
   "metadata": {},
   "outputs": [],
   "source": [
    "# resp <- github_api(\"/events\",list(per_page=1,page=0))\n",
    "# resp"
   ]
  },
  {
   "cell_type": "code",
   "execution_count": 48,
   "id": "d93e1ace-e4ee-4d5a-8263-8cb640907c1c",
   "metadata": {},
   "outputs": [],
   "source": [
    "github_get_public_events <- function(per_page=30, page=1, output_type=\"list\"){\n",
    "    \n",
    "    response <- github_api(\"/events\",per_page,page)\n",
    "    \n",
    "    result <- format_response(response,output_type)\n",
    "    \n",
    "    result\n",
    "}"
   ]
  },
  {
   "cell_type": "code",
   "execution_count": 142,
   "id": "76fe243b-f9e2-4064-9cd3-ca8360d14e00",
   "metadata": {},
   "outputs": [],
   "source": [
    "# github_get_public_events()"
   ]
  },
  {
   "cell_type": "code",
   "execution_count": null,
   "id": "a457418e-a76c-4294-9c9d-433e0f6cd4d6",
   "metadata": {},
   "outputs": [],
   "source": []
  },
  {
   "cell_type": "code",
   "execution_count": 62,
   "id": "0d840598-d187-4338-a35c-785be4076333",
   "metadata": {},
   "outputs": [],
   "source": [
    "github_get_organization_events <- function(organization, per_page=30, page=1, output_type=\"list\"){\n",
    "        \n",
    "    path <- paste(\"/orgs/\", organization, \"/events\", sep=\"\")\n",
    "\n",
    "    response <- github_api(path,per_page,page)\n",
    "    \n",
    "    result <- format_response(response,output_type)\n",
    "    \n",
    "    result\n",
    "}"
   ]
  },
  {
   "cell_type": "code",
   "execution_count": 66,
   "id": "e50fa566-7079-4a88-8ada-e4826cac862e",
   "metadata": {},
   "outputs": [],
   "source": [
    "# github_get_organization_events(\"ubco-mds-2021\",3,1,\"dataframe\")"
   ]
  },
  {
   "cell_type": "code",
   "execution_count": 65,
   "id": "19d4286e-cfe7-45ac-9285-88de728d4453",
   "metadata": {},
   "outputs": [],
   "source": [
    "# github_get_organization_events(\"ubco-mds-2021\")"
   ]
  },
  {
   "cell_type": "code",
   "execution_count": 69,
   "id": "8d59bc83-1b83-4ddc-839d-2c5300b17f55",
   "metadata": {},
   "outputs": [],
   "source": [
    "github_get_network_events <- function(owner, repo, per_page=30, page=1, output_type=\"list\"){\n",
    "        \n",
    "    path <- paste(\"/networks/\", owner, \"/\", repo, \"/events\", sep=\"\")\n",
    "\n",
    "    response <- github_api(path,per_page,page)\n",
    "    \n",
    "    result <- format_response(response,output_type)\n",
    "    \n",
    "    result\n",
    "}"
   ]
  },
  {
   "cell_type": "code",
   "execution_count": 71,
   "id": "e39ba8b4-3032-47bb-91c4-5bb8c85dc3bc",
   "metadata": {},
   "outputs": [],
   "source": [
    "# github_get_network_events(\"AndrewNg1891\",\"DATA534_API_Project_Group9\")"
   ]
  },
  {
   "cell_type": "code",
   "execution_count": 80,
   "id": "4eb10474-6a7e-4e4e-86e8-1d7f13909264",
   "metadata": {},
   "outputs": [],
   "source": [
    "github_get_repo_events <- function(owner, repo, per_page=30, page=1, output_type=\"list\"){\n",
    "        \n",
    "    path <- paste(\"/repos/\", owner, \"/\", repo, \"/events\", sep=\"\")\n",
    "\n",
    "    response <- github_api(path,per_page,page)\n",
    "    \n",
    "    result <- format_response(response,output_type)\n",
    "    \n",
    "    result\n",
    "}"
   ]
  },
  {
   "cell_type": "code",
   "execution_count": 85,
   "id": "5ea26c3c-f129-43f6-a6ef-f06691bb445d",
   "metadata": {},
   "outputs": [],
   "source": [
    "aa <- github_get_repo_events(\"AndrewNg1891\",\"DATA534_API_Project_Group9\",100,2,\"dataframe\")"
   ]
  },
  {
   "cell_type": "code",
   "execution_count": 86,
   "id": "a6140958-42f6-47bd-8944-d2f2198cea56",
   "metadata": {},
   "outputs": [
    {
     "data": {
      "text/html": [
       "0"
      ],
      "text/latex": [
       "0"
      ],
      "text/markdown": [
       "0"
      ],
      "text/plain": [
       "[1] 0"
      ]
     },
     "metadata": {},
     "output_type": "display_data"
    }
   ],
   "source": [
    "length(aa)"
   ]
  },
  {
   "cell_type": "code",
   "execution_count": 87,
   "id": "92fabf2f-9a5c-49ce-9cf7-a3305fbea991",
   "metadata": {},
   "outputs": [
    {
     "data": {
      "text/html": [
       "<ol>\n",
       "</ol>\n"
      ],
      "text/latex": [
       "\\begin{enumerate}\n",
       "\\end{enumerate}\n"
      ],
      "text/markdown": [
       "\n",
       "\n"
      ],
      "text/plain": [
       "list()"
      ]
     },
     "metadata": {},
     "output_type": "display_data"
    }
   ],
   "source": [
    "aa"
   ]
  },
  {
   "cell_type": "code",
   "execution_count": 138,
   "id": "dd5feddd-f0af-4ab3-8030-115bea032a55",
   "metadata": {},
   "outputs": [],
   "source": [
    "github_count_events_bytype <- function(range, max_event_num){\n",
    "    if (max_event_num < 1 || max_event_num != round(max_event_num)) {\n",
    "        stop(\"The max_event_num parameter should be a positive integer\", call. = FALSE)\n",
    "    }\n",
    "    total_pages <- ceiling(max_event_num/100)\n",
    "    print(total_pages)\n",
    "    result <- NULL\n",
    "    datalist = list()\n",
    "    for (i in 1:total_pages){\n",
    "        if (range == \"all public\") {\n",
    "            temp_df <- github_get_public_events(100, page=i,\"dataframe\")\n",
    "            temp_df <- temp_df[,c(\"id\",\"type\",\"created_at\")]\n",
    "        }\n",
    "        \n",
    "        if (length(temp_df) > 0) {\n",
    "            datalist[[i]] <- temp_df\n",
    "        } else {\n",
    "            break\n",
    "        }\n",
    "    }\n",
    "    \n",
    "    binded_df <- dplyr::bind_rows(datalist)\n",
    "    binded_df <- binded_df[1:max_event_num,]\n",
    "    print(dplyr::dim_desc(binded_df))\n",
    "    result <- binded_df |> dplyr::count(type, name = \"count\")\n",
    "    result\n",
    "    \n",
    "}"
   ]
  },
  {
   "cell_type": "code",
   "execution_count": 139,
   "id": "dcb27f26-90ac-474a-a9a3-32292efa633c",
   "metadata": {},
   "outputs": [
    {
     "name": "stdout",
     "output_type": "stream",
     "text": [
      "[1] 3\n",
      "[1] \"[240 x 3]\"\n"
     ]
    }
   ],
   "source": [
    "testit <- github_count_events_bytype(\"all public\",240)"
   ]
  },
  {
   "cell_type": "code",
   "execution_count": 140,
   "id": "979bf409-bea5-442a-888c-745a4fdaf745",
   "metadata": {},
   "outputs": [
    {
     "data": {
      "text/html": [
       "<table class=\"dataframe\">\n",
       "<caption>A data.frame: 13 × 2</caption>\n",
       "<thead>\n",
       "\t<tr><th scope=col>type</th><th scope=col>count</th></tr>\n",
       "\t<tr><th scope=col>&lt;chr&gt;</th><th scope=col>&lt;int&gt;</th></tr>\n",
       "</thead>\n",
       "<tbody>\n",
       "\t<tr><td>CommitCommentEvent           </td><td>  1</td></tr>\n",
       "\t<tr><td>CreateEvent                  </td><td> 37</td></tr>\n",
       "\t<tr><td>DeleteEvent                  </td><td>  9</td></tr>\n",
       "\t<tr><td>ForkEvent                    </td><td>  4</td></tr>\n",
       "\t<tr><td>IssueCommentEvent            </td><td>  7</td></tr>\n",
       "\t<tr><td>IssuesEvent                  </td><td>  7</td></tr>\n",
       "\t<tr><td>MemberEvent                  </td><td>  2</td></tr>\n",
       "\t<tr><td>PublicEvent                  </td><td>  2</td></tr>\n",
       "\t<tr><td>PullRequestEvent             </td><td> 16</td></tr>\n",
       "\t<tr><td>PullRequestReviewCommentEvent</td><td>  8</td></tr>\n",
       "\t<tr><td>PullRequestReviewEvent       </td><td>  9</td></tr>\n",
       "\t<tr><td>PushEvent                    </td><td>129</td></tr>\n",
       "\t<tr><td>WatchEvent                   </td><td>  9</td></tr>\n",
       "</tbody>\n",
       "</table>\n"
      ],
      "text/latex": [
       "A data.frame: 13 × 2\n",
       "\\begin{tabular}{ll}\n",
       " type & count\\\\\n",
       " <chr> & <int>\\\\\n",
       "\\hline\n",
       "\t CommitCommentEvent            &   1\\\\\n",
       "\t CreateEvent                   &  37\\\\\n",
       "\t DeleteEvent                   &   9\\\\\n",
       "\t ForkEvent                     &   4\\\\\n",
       "\t IssueCommentEvent             &   7\\\\\n",
       "\t IssuesEvent                   &   7\\\\\n",
       "\t MemberEvent                   &   2\\\\\n",
       "\t PublicEvent                   &   2\\\\\n",
       "\t PullRequestEvent              &  16\\\\\n",
       "\t PullRequestReviewCommentEvent &   8\\\\\n",
       "\t PullRequestReviewEvent        &   9\\\\\n",
       "\t PushEvent                     & 129\\\\\n",
       "\t WatchEvent                    &   9\\\\\n",
       "\\end{tabular}\n"
      ],
      "text/markdown": [
       "\n",
       "A data.frame: 13 × 2\n",
       "\n",
       "| type &lt;chr&gt; | count &lt;int&gt; |\n",
       "|---|---|\n",
       "| CommitCommentEvent            |   1 |\n",
       "| CreateEvent                   |  37 |\n",
       "| DeleteEvent                   |   9 |\n",
       "| ForkEvent                     |   4 |\n",
       "| IssueCommentEvent             |   7 |\n",
       "| IssuesEvent                   |   7 |\n",
       "| MemberEvent                   |   2 |\n",
       "| PublicEvent                   |   2 |\n",
       "| PullRequestEvent              |  16 |\n",
       "| PullRequestReviewCommentEvent |   8 |\n",
       "| PullRequestReviewEvent        |   9 |\n",
       "| PushEvent                     | 129 |\n",
       "| WatchEvent                    |   9 |\n",
       "\n"
      ],
      "text/plain": [
       "   type                          count\n",
       "1  CommitCommentEvent              1  \n",
       "2  CreateEvent                    37  \n",
       "3  DeleteEvent                     9  \n",
       "4  ForkEvent                       4  \n",
       "5  IssueCommentEvent               7  \n",
       "6  IssuesEvent                     7  \n",
       "7  MemberEvent                     2  \n",
       "8  PublicEvent                     2  \n",
       "9  PullRequestEvent               16  \n",
       "10 PullRequestReviewCommentEvent   8  \n",
       "11 PullRequestReviewEvent          9  \n",
       "12 PushEvent                     129  \n",
       "13 WatchEvent                      9  "
      ]
     },
     "metadata": {},
     "output_type": "display_data"
    }
   ],
   "source": [
    "testit"
   ]
  },
  {
   "cell_type": "code",
   "execution_count": 141,
   "id": "e943a5c7-0a06-4cc3-b154-e49e053a697f",
   "metadata": {},
   "outputs": [
    {
     "data": {
      "text/html": [
       "240"
      ],
      "text/latex": [
       "240"
      ],
      "text/markdown": [
       "240"
      ],
      "text/plain": [
       "[1] 240"
      ]
     },
     "metadata": {},
     "output_type": "display_data"
    }
   ],
   "source": [
    "sum(testit[,\"count\"])"
   ]
  },
  {
   "cell_type": "code",
   "execution_count": null,
   "id": "d383e2a6-ae4d-4ebf-a1cb-4030d71c2a7d",
   "metadata": {},
   "outputs": [],
   "source": []
  }
 ],
 "metadata": {
  "kernelspec": {
   "display_name": "R",
   "language": "R",
   "name": "ir"
  },
  "language_info": {
   "codemirror_mode": "r",
   "file_extension": ".r",
   "mimetype": "text/x-r-source",
   "name": "R",
   "pygments_lexer": "r",
   "version": "4.1.2"
  }
 },
 "nbformat": 4,
 "nbformat_minor": 5
}
