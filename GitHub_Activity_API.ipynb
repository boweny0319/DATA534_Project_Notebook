{
 "cells": [
  {
   "cell_type": "code",
   "execution_count": 1,
   "id": "afb2fc78-2b49-4e5d-a552-3b45fdc9b0dd",
   "metadata": {},
   "outputs": [],
   "source": [
    "# library(httr)"
   ]
  },
  {
   "cell_type": "code",
   "execution_count": 26,
   "id": "1d15ec47-d99b-40ef-9e27-f3024a8ab488",
   "metadata": {},
   "outputs": [],
   "source": [
    "github_api <- function(path,per_page,page,username = \"\",token = \"\") {\n",
    "    \n",
    "    if(!is.numeric(per_page)){\n",
    "        stop(\"The per_page parameter should not be non-numerical value\")\n",
    "    }\n",
    "    \n",
    "    if(!is.numeric(page)){\n",
    "        stop(\"The page parameter should not be non-numerical value\")\n",
    "    }\n",
    "    \n",
    "    if (per_page < 1 || per_page > 100 || per_page != round(per_page)) {\n",
    "        stop(\"The per_page parameter should be a integer between 1 and 100 (inclusive)\", call. = FALSE)\n",
    "    }\n",
    "    \n",
    "    if (page < 1 || page != round(page)) {\n",
    "        stop(\"The page parameter should be a positive integer\", call. = FALSE)\n",
    "    }\n",
    "    \n",
    "    query <- list(per_page=per_page,page=page)\n",
    "    \n",
    "    url <- httr::modify_url(\"https://api.github.com\", path = path)\n",
    "    if (username == \"\" || token == \"\") {\n",
    "        response <- httr::GET(url, httr::add_headers(accept = \"application/vnd.github.v3+json\"), query = query)\n",
    "    } else {\n",
    "        response <- httr::GET(url, httr::add_headers(accept = \"application/vnd.github.v3+json\"), query = query, httr::authenticate(username, token))\n",
    "    }\n",
    "    \n",
    "    \n",
    "    if (httr::http_error(response)) {\n",
    "        stop(\"GitHub API request failed\", call. = FALSE)\n",
    "    }\n",
    "    \n",
    "    if (httr::http_type(response) != \"application/json\") {\n",
    "        stop(\"API did not return json\", call. = FALSE)\n",
    "    }\n",
    "    response\n",
    "}\n",
    "\n",
    "format_response <- function(response,output_type) {\n",
    "    result <- NULL\n",
    "    if (output_type == \"list\") {\n",
    "        result <- jsonlite::fromJSON(rawToChar(response$content), simplifyVector = FALSE)\n",
    "    } else if (output_type == \"dataframe\") {\n",
    "        result <- jsonlite::fromJSON(rawToChar(response$content),flatten = TRUE)\n",
    "    } else if (output_type == \"character\") {\n",
    "        result <- rawToChar(response$content)\n",
    "    } else if (output_type == \"raw\") {\n",
    "        result <- response\n",
    "    } else {\n",
    "        stop(\"Unexpected output type, possible values are: 'list', 'dataframe', 'character'\")\n",
    "    }\n",
    "    \n",
    "    result\n",
    "}"
   ]
  },
  {
   "cell_type": "code",
   "execution_count": 27,
   "id": "b159e055-8e23-4b4e-94f8-748687df9982",
   "metadata": {},
   "outputs": [],
   "source": [
    "# resp <- github_api(\"/events\",list(per_page=1,page=0))\n",
    "# resp"
   ]
  },
  {
   "cell_type": "code",
   "execution_count": 28,
   "id": "d93e1ace-e4ee-4d5a-8263-8cb640907c1c",
   "metadata": {},
   "outputs": [],
   "source": [
    "github_get_public_events <- function(per_page=30, page=1, output_type=\"list\",username = \"\",token = \"\"){\n",
    "    \n",
    "    response <- github_api(\"/events\",per_page,page,username,token)\n",
    "    \n",
    "    result <- format_response(response,output_type)\n",
    "    \n",
    "    result\n",
    "}"
   ]
  },
  {
   "cell_type": "code",
   "execution_count": 30,
   "id": "76fe243b-f9e2-4064-9cd3-ca8360d14e00",
   "metadata": {},
   "outputs": [],
   "source": [
    "# bb <- github_get_public_events(output_type = \"dataframe\")"
   ]
  },
  {
   "cell_type": "code",
   "execution_count": 32,
   "id": "a457418e-a76c-4294-9c9d-433e0f6cd4d6",
   "metadata": {},
   "outputs": [],
   "source": [
    "# bb[,\"repo.name\"]"
   ]
  },
  {
   "cell_type": "code",
   "execution_count": 33,
   "id": "0d840598-d187-4338-a35c-785be4076333",
   "metadata": {},
   "outputs": [],
   "source": [
    "github_get_organization_events <- function(organization, per_page=30, page=1, output_type=\"list\",username = \"\",token = \"\"){\n",
    "        \n",
    "    path <- paste(\"/orgs/\", organization, \"/events\", sep=\"\")\n",
    "\n",
    "    response <- github_api(path,per_page,page,username,token)\n",
    "    \n",
    "    result <- format_response(response,output_type)\n",
    "    \n",
    "    result\n",
    "}"
   ]
  },
  {
   "cell_type": "code",
   "execution_count": 37,
   "id": "e50fa566-7079-4a88-8ada-e4826cac862e",
   "metadata": {},
   "outputs": [],
   "source": [
    "# github_get_organization_events(\"ubco-mds-2021\",3,1,\"dataframe\")"
   ]
  },
  {
   "cell_type": "code",
   "execution_count": 36,
   "id": "19d4286e-cfe7-45ac-9285-88de728d4453",
   "metadata": {},
   "outputs": [],
   "source": [
    "# github_get_organization_events(\"ubco-mds-2021\")"
   ]
  },
  {
   "cell_type": "code",
   "execution_count": 38,
   "id": "8d59bc83-1b83-4ddc-839d-2c5300b17f55",
   "metadata": {},
   "outputs": [],
   "source": [
    "github_get_network_events <- function(owner, repo, per_page=30, page=1, output_type=\"list\",username = \"\",token = \"\"){\n",
    "        \n",
    "    path <- paste(\"/networks/\", owner, \"/\", repo, \"/events\", sep=\"\")\n",
    "\n",
    "    response <- github_api(path,per_page,page,username,token)\n",
    "    \n",
    "    result <- format_response(response,output_type)\n",
    "    \n",
    "    result\n",
    "}"
   ]
  },
  {
   "cell_type": "code",
   "execution_count": 40,
   "id": "e39ba8b4-3032-47bb-91c4-5bb8c85dc3bc",
   "metadata": {},
   "outputs": [],
   "source": [
    "# github_get_network_events(\"AndrewNg1891\",\"DATA534_API_Project_Group9\")"
   ]
  },
  {
   "cell_type": "code",
   "execution_count": 41,
   "id": "4eb10474-6a7e-4e4e-86e8-1d7f13909264",
   "metadata": {},
   "outputs": [],
   "source": [
    "github_get_repo_events <- function(owner, repo, per_page=30, page=1, output_type=\"list\"){\n",
    "        \n",
    "    path <- paste(\"/repos/\", owner, \"/\", repo, \"/events\", sep=\"\")\n",
    "\n",
    "    response <- github_api(path,per_page,page)\n",
    "    \n",
    "    result <- format_response(response,output_type)\n",
    "    \n",
    "    result\n",
    "}"
   ]
  },
  {
   "cell_type": "code",
   "execution_count": 42,
   "id": "5ea26c3c-f129-43f6-a6ef-f06691bb445d",
   "metadata": {},
   "outputs": [],
   "source": [
    "aa <- github_get_repo_events(\"AndrewNg1891\",\"DATA534_API_Project_Group9\",100,2,\"dataframe\")"
   ]
  },
  {
   "cell_type": "code",
   "execution_count": 43,
   "id": "a6140958-42f6-47bd-8944-d2f2198cea56",
   "metadata": {},
   "outputs": [
    {
     "data": {
      "text/html": [
       "0"
      ],
      "text/latex": [
       "0"
      ],
      "text/markdown": [
       "0"
      ],
      "text/plain": [
       "[1] 0"
      ]
     },
     "metadata": {},
     "output_type": "display_data"
    }
   ],
   "source": [
    "length(aa)"
   ]
  },
  {
   "cell_type": "code",
   "execution_count": 44,
   "id": "92fabf2f-9a5c-49ce-9cf7-a3305fbea991",
   "metadata": {},
   "outputs": [],
   "source": [
    "github_lastn_events_df <- function(range, max_event_num, owner = \"\", repo = \"\", organization = \"\"){\n",
    "    if (max_event_num < 1 || max_event_num != round(max_event_num)) {\n",
    "        stop(\"The max_event_num parameter should be a positive integer\", call. = FALSE)\n",
    "    }\n",
    "    total_pages <- ceiling(max_event_num/100)\n",
    "    result <- NULL\n",
    "    datalist = list()\n",
    "    for (i in 1:total_pages){\n",
    "        if (range == \"all public\") {\n",
    "            temp_df <- github_get_public_events(100, page=i,\"dataframe\")\n",
    "        } else if (range == \"network\") {\n",
    "            if (owner == \"\" || repo == \"\") {\n",
    "                stop(\"The owner and repo parameters are required for getting network events\", call. = FALSE)\n",
    "            }\n",
    "            temp_df <- github_get_network_events(owner, repo, 100, page=i,\"dataframe\")\n",
    "        } else if (range == \"organization\") {\n",
    "            if (organization == \"\") {\n",
    "                stop(\"The organization parameter is required for getting organization events\", call. = FALSE)\n",
    "            }\n",
    "            temp_df <- github_get_organization_events(organization, 100, page=i,\"dataframe\")\n",
    "        } else if (range == \"repository\") {\n",
    "           if (owner == \"\" || repo == \"\") {\n",
    "                stop(\"The owner and repo parameters are required for getting repository events\", call. = FALSE)\n",
    "            }\n",
    "            temp_df <- github_get_repo_events(owner, repo, 100, page=i,\"dataframe\")\n",
    "        }\n",
    "        \n",
    "        if (length(temp_df) > 0) {\n",
    "            datalist[[i]] <- temp_df\n",
    "        } else {\n",
    "            break\n",
    "        }\n",
    "        temp_df <- temp_df[,c(\"id\",\"type\",\"created_at\", \"actor.login\", \"repo.name\")]\n",
    "    }\n",
    "    binded_df <- dplyr::bind_rows(datalist)\n",
    "    row_num <- min(c(nrow(binded_df),max_event_num))\n",
    "    binded_df <- binded_df[1:row_num,]\n",
    "    binded_df\n",
    "    \n",
    "}"
   ]
  },
  {
   "cell_type": "code",
   "execution_count": 45,
   "id": "dd5feddd-f0af-4ab3-8030-115bea032a55",
   "metadata": {},
   "outputs": [],
   "source": [
    "github_count_events_bytype <- function(range, max_event_num, owner = \"\", repo = \"\", organization = \"\"){\n",
    "   \n",
    "    \n",
    "    binded_df <- github_lastn_events_df(range,max_event_num,owner,repo,organization)\n",
    "    result <- binded_df |> dplyr::count(type, name = \"count\")\n",
    "    result\n",
    "    \n",
    "}"
   ]
  },
  {
   "cell_type": "code",
   "execution_count": 46,
   "id": "854560fc-6fb9-4452-a342-65d46cf5f97d",
   "metadata": {},
   "outputs": [
    {
     "data": {
      "text/html": [
       "<table class=\"dataframe\">\n",
       "<caption>A data.frame: 3 × 2</caption>\n",
       "<thead>\n",
       "\t<tr><th scope=col>type</th><th scope=col>count</th></tr>\n",
       "\t<tr><th scope=col>&lt;chr&gt;</th><th scope=col>&lt;int&gt;</th></tr>\n",
       "</thead>\n",
       "<tbody>\n",
       "\t<tr><td>CreateEvent</td><td>2</td></tr>\n",
       "\t<tr><td>MemberEvent</td><td>2</td></tr>\n",
       "\t<tr><td>WatchEvent </td><td>1</td></tr>\n",
       "</tbody>\n",
       "</table>\n"
      ],
      "text/latex": [
       "A data.frame: 3 × 2\n",
       "\\begin{tabular}{ll}\n",
       " type & count\\\\\n",
       " <chr> & <int>\\\\\n",
       "\\hline\n",
       "\t CreateEvent & 2\\\\\n",
       "\t MemberEvent & 2\\\\\n",
       "\t WatchEvent  & 1\\\\\n",
       "\\end{tabular}\n"
      ],
      "text/markdown": [
       "\n",
       "A data.frame: 3 × 2\n",
       "\n",
       "| type &lt;chr&gt; | count &lt;int&gt; |\n",
       "|---|---|\n",
       "| CreateEvent | 2 |\n",
       "| MemberEvent | 2 |\n",
       "| WatchEvent  | 1 |\n",
       "\n"
      ],
      "text/plain": [
       "  type        count\n",
       "1 CreateEvent 2    \n",
       "2 MemberEvent 2    \n",
       "3 WatchEvent  1    "
      ]
     },
     "metadata": {},
     "output_type": "display_data"
    }
   ],
   "source": [
    "ee <- github_count_events_bytype(\"network\",102,\"AndrewNg1891\",\"DATA534_API_Project_Group9\")\n",
    "ee"
   ]
  },
  {
   "cell_type": "code",
   "execution_count": 47,
   "id": "89292ada-1a76-4547-a113-208e513d041a",
   "metadata": {},
   "outputs": [
    {
     "data": {
      "text/html": [
       "<table class=\"dataframe\">\n",
       "<caption>A data.frame: 3 × 2</caption>\n",
       "<thead>\n",
       "\t<tr><th scope=col>type</th><th scope=col>count</th></tr>\n",
       "\t<tr><th scope=col>&lt;chr&gt;</th><th scope=col>&lt;int&gt;</th></tr>\n",
       "</thead>\n",
       "<tbody>\n",
       "\t<tr><td>CreateEvent</td><td>2</td></tr>\n",
       "\t<tr><td>MemberEvent</td><td>2</td></tr>\n",
       "\t<tr><td>WatchEvent </td><td>1</td></tr>\n",
       "</tbody>\n",
       "</table>\n"
      ],
      "text/latex": [
       "A data.frame: 3 × 2\n",
       "\\begin{tabular}{ll}\n",
       " type & count\\\\\n",
       " <chr> & <int>\\\\\n",
       "\\hline\n",
       "\t CreateEvent & 2\\\\\n",
       "\t MemberEvent & 2\\\\\n",
       "\t WatchEvent  & 1\\\\\n",
       "\\end{tabular}\n"
      ],
      "text/markdown": [
       "\n",
       "A data.frame: 3 × 2\n",
       "\n",
       "| type &lt;chr&gt; | count &lt;int&gt; |\n",
       "|---|---|\n",
       "| CreateEvent | 2 |\n",
       "| MemberEvent | 2 |\n",
       "| WatchEvent  | 1 |\n",
       "\n"
      ],
      "text/plain": [
       "  type        count\n",
       "1 CreateEvent 2    \n",
       "2 MemberEvent 2    \n",
       "3 WatchEvent  1    "
      ]
     },
     "metadata": {},
     "output_type": "display_data"
    }
   ],
   "source": [
    "dd <- github_count_events_bytype(\"repository\",102,\"AndrewNg1891\",\"DATA534_API_Project_Group9\")\n",
    "dd"
   ]
  },
  {
   "cell_type": "code",
   "execution_count": 48,
   "id": "d31e4317-e3da-4292-9c91-88fb532daf6a",
   "metadata": {},
   "outputs": [
    {
     "data": {
      "text/html": [
       "<table class=\"dataframe\">\n",
       "<caption>A data.frame: 3 × 132</caption>\n",
       "<thead>\n",
       "\t<tr><th></th><th scope=col>id</th><th scope=col>type</th><th scope=col>public</th><th scope=col>created_at</th><th scope=col>actor.id</th><th scope=col>actor.login</th><th scope=col>actor.display_login</th><th scope=col>actor.gravatar_id</th><th scope=col>actor.url</th><th scope=col>actor.avatar_url</th><th scope=col>...</th><th scope=col>payload.member.repos_url</th><th scope=col>payload.member.events_url</th><th scope=col>payload.member.received_events_url</th><th scope=col>payload.member.type</th><th scope=col>payload.member.site_admin</th><th scope=col>org.id</th><th scope=col>org.login</th><th scope=col>org.gravatar_id</th><th scope=col>org.url</th><th scope=col>org.avatar_url</th></tr>\n",
       "\t<tr><th></th><th scope=col>&lt;chr&gt;</th><th scope=col>&lt;chr&gt;</th><th scope=col>&lt;lgl&gt;</th><th scope=col>&lt;chr&gt;</th><th scope=col>&lt;int&gt;</th><th scope=col>&lt;chr&gt;</th><th scope=col>&lt;chr&gt;</th><th scope=col>&lt;chr&gt;</th><th scope=col>&lt;chr&gt;</th><th scope=col>&lt;chr&gt;</th><th scope=col>...</th><th scope=col>&lt;chr&gt;</th><th scope=col>&lt;chr&gt;</th><th scope=col>&lt;chr&gt;</th><th scope=col>&lt;chr&gt;</th><th scope=col>&lt;lgl&gt;</th><th scope=col>&lt;int&gt;</th><th scope=col>&lt;chr&gt;</th><th scope=col>&lt;chr&gt;</th><th scope=col>&lt;chr&gt;</th><th scope=col>&lt;chr&gt;</th></tr>\n",
       "</thead>\n",
       "<tbody>\n",
       "\t<tr><th scope=row>1</th><td>19484563386</td><td>ForkEvent  </td><td>TRUE</td><td>2021-12-26T04:35:45Z</td><td>51510071</td><td>Mehul2203    </td><td>Mehul2203    </td><td></td><td>https://api.github.com/users/Mehul2203    </td><td>https://avatars.githubusercontent.com/u/51510071?</td><td>...</td><td>NA                                          </td><td>NA                                                     </td><td>NA                                                    </td><td>NA  </td><td>   NA</td><td>87037946</td><td>ubco-mds-2021</td><td></td><td>https://api.github.com/orgs/ubco-mds-2021</td><td>https://avatars.githubusercontent.com/u/87037946?</td></tr>\n",
       "\t<tr><th scope=row>2</th><td>19270284330</td><td>MemberEvent</td><td>TRUE</td><td>2021-12-10T03:52:26Z</td><td>87037946</td><td>ubco-mds-2021</td><td>ubco-mds-2021</td><td></td><td>https://api.github.com/users/ubco-mds-2021</td><td>https://avatars.githubusercontent.com/u/87037946?</td><td>...</td><td>https://api.github.com/users/LunarNode/repos</td><td>https://api.github.com/users/LunarNode/events{/privacy}</td><td>https://api.github.com/users/LunarNode/received_events</td><td>User</td><td>FALSE</td><td>87037946</td><td>ubco-mds-2021</td><td></td><td>https://api.github.com/orgs/ubco-mds-2021</td><td>https://avatars.githubusercontent.com/u/87037946?</td></tr>\n",
       "\t<tr><th scope=row>3</th><td>19070639555</td><td>MemberEvent</td><td>TRUE</td><td>2021-11-26T22:05:10Z</td><td>87037946</td><td>ubco-mds-2021</td><td>ubco-mds-2021</td><td></td><td>https://api.github.com/users/ubco-mds-2021</td><td>https://avatars.githubusercontent.com/u/87037946?</td><td>...</td><td>https://api.github.com/users/Jagdeep14/repos</td><td>https://api.github.com/users/Jagdeep14/events{/privacy}</td><td>https://api.github.com/users/Jagdeep14/received_events</td><td>User</td><td>FALSE</td><td>87037946</td><td>ubco-mds-2021</td><td></td><td>https://api.github.com/orgs/ubco-mds-2021</td><td>https://avatars.githubusercontent.com/u/87037946?</td></tr>\n",
       "</tbody>\n",
       "</table>\n"
      ],
      "text/latex": [
       "A data.frame: 3 × 132\n",
       "\\begin{tabular}{r|lllllllllllllllllllll}\n",
       "  & id & type & public & created\\_at & actor.id & actor.login & actor.display\\_login & actor.gravatar\\_id & actor.url & actor.avatar\\_url & ... & payload.member.repos\\_url & payload.member.events\\_url & payload.member.received\\_events\\_url & payload.member.type & payload.member.site\\_admin & org.id & org.login & org.gravatar\\_id & org.url & org.avatar\\_url\\\\\n",
       "  & <chr> & <chr> & <lgl> & <chr> & <int> & <chr> & <chr> & <chr> & <chr> & <chr> & ... & <chr> & <chr> & <chr> & <chr> & <lgl> & <int> & <chr> & <chr> & <chr> & <chr>\\\\\n",
       "\\hline\n",
       "\t1 & 19484563386 & ForkEvent   & TRUE & 2021-12-26T04:35:45Z & 51510071 & Mehul2203     & Mehul2203     &  & https://api.github.com/users/Mehul2203     & https://avatars.githubusercontent.com/u/51510071? & ... & NA                                           & NA                                                      & NA                                                     & NA   &    NA & 87037946 & ubco-mds-2021 &  & https://api.github.com/orgs/ubco-mds-2021 & https://avatars.githubusercontent.com/u/87037946?\\\\\n",
       "\t2 & 19270284330 & MemberEvent & TRUE & 2021-12-10T03:52:26Z & 87037946 & ubco-mds-2021 & ubco-mds-2021 &  & https://api.github.com/users/ubco-mds-2021 & https://avatars.githubusercontent.com/u/87037946? & ... & https://api.github.com/users/LunarNode/repos & https://api.github.com/users/LunarNode/events\\{/privacy\\} & https://api.github.com/users/LunarNode/received\\_events & User & FALSE & 87037946 & ubco-mds-2021 &  & https://api.github.com/orgs/ubco-mds-2021 & https://avatars.githubusercontent.com/u/87037946?\\\\\n",
       "\t3 & 19070639555 & MemberEvent & TRUE & 2021-11-26T22:05:10Z & 87037946 & ubco-mds-2021 & ubco-mds-2021 &  & https://api.github.com/users/ubco-mds-2021 & https://avatars.githubusercontent.com/u/87037946? & ... & https://api.github.com/users/Jagdeep14/repos & https://api.github.com/users/Jagdeep14/events\\{/privacy\\} & https://api.github.com/users/Jagdeep14/received\\_events & User & FALSE & 87037946 & ubco-mds-2021 &  & https://api.github.com/orgs/ubco-mds-2021 & https://avatars.githubusercontent.com/u/87037946?\\\\\n",
       "\\end{tabular}\n"
      ],
      "text/markdown": [
       "\n",
       "A data.frame: 3 × 132\n",
       "\n",
       "| <!--/--> | id &lt;chr&gt; | type &lt;chr&gt; | public &lt;lgl&gt; | created_at &lt;chr&gt; | actor.id &lt;int&gt; | actor.login &lt;chr&gt; | actor.display_login &lt;chr&gt; | actor.gravatar_id &lt;chr&gt; | actor.url &lt;chr&gt; | actor.avatar_url &lt;chr&gt; | ... ... | payload.member.repos_url &lt;chr&gt; | payload.member.events_url &lt;chr&gt; | payload.member.received_events_url &lt;chr&gt; | payload.member.type &lt;chr&gt; | payload.member.site_admin &lt;lgl&gt; | org.id &lt;int&gt; | org.login &lt;chr&gt; | org.gravatar_id &lt;chr&gt; | org.url &lt;chr&gt; | org.avatar_url &lt;chr&gt; |\n",
       "|---|---|---|---|---|---|---|---|---|---|---|---|---|---|---|---|---|---|---|---|---|---|\n",
       "| 1 | 19484563386 | ForkEvent   | TRUE | 2021-12-26T04:35:45Z | 51510071 | Mehul2203     | Mehul2203     | <!----> | https://api.github.com/users/Mehul2203     | https://avatars.githubusercontent.com/u/51510071? | ... | NA                                           | NA                                                      | NA                                                     | NA   |    NA | 87037946 | ubco-mds-2021 | <!----> | https://api.github.com/orgs/ubco-mds-2021 | https://avatars.githubusercontent.com/u/87037946? |\n",
       "| 2 | 19270284330 | MemberEvent | TRUE | 2021-12-10T03:52:26Z | 87037946 | ubco-mds-2021 | ubco-mds-2021 | <!----> | https://api.github.com/users/ubco-mds-2021 | https://avatars.githubusercontent.com/u/87037946? | ... | https://api.github.com/users/LunarNode/repos | https://api.github.com/users/LunarNode/events{/privacy} | https://api.github.com/users/LunarNode/received_events | User | FALSE | 87037946 | ubco-mds-2021 | <!----> | https://api.github.com/orgs/ubco-mds-2021 | https://avatars.githubusercontent.com/u/87037946? |\n",
       "| 3 | 19070639555 | MemberEvent | TRUE | 2021-11-26T22:05:10Z | 87037946 | ubco-mds-2021 | ubco-mds-2021 | <!----> | https://api.github.com/users/ubco-mds-2021 | https://avatars.githubusercontent.com/u/87037946? | ... | https://api.github.com/users/Jagdeep14/repos | https://api.github.com/users/Jagdeep14/events{/privacy} | https://api.github.com/users/Jagdeep14/received_events | User | FALSE | 87037946 | ubco-mds-2021 | <!----> | https://api.github.com/orgs/ubco-mds-2021 | https://avatars.githubusercontent.com/u/87037946? |\n",
       "\n"
      ],
      "text/plain": [
       "  id          type        public created_at           actor.id actor.login  \n",
       "1 19484563386 ForkEvent   TRUE   2021-12-26T04:35:45Z 51510071 Mehul2203    \n",
       "2 19270284330 MemberEvent TRUE   2021-12-10T03:52:26Z 87037946 ubco-mds-2021\n",
       "3 19070639555 MemberEvent TRUE   2021-11-26T22:05:10Z 87037946 ubco-mds-2021\n",
       "  actor.display_login actor.gravatar_id\n",
       "1 Mehul2203                            \n",
       "2 ubco-mds-2021                        \n",
       "3 ubco-mds-2021                        \n",
       "  actor.url                                 \n",
       "1 https://api.github.com/users/Mehul2203    \n",
       "2 https://api.github.com/users/ubco-mds-2021\n",
       "3 https://api.github.com/users/ubco-mds-2021\n",
       "  actor.avatar_url                                  ...\n",
       "1 https://avatars.githubusercontent.com/u/51510071? ...\n",
       "2 https://avatars.githubusercontent.com/u/87037946? ...\n",
       "3 https://avatars.githubusercontent.com/u/87037946? ...\n",
       "  payload.member.repos_url                    \n",
       "1 NA                                          \n",
       "2 https://api.github.com/users/LunarNode/repos\n",
       "3 https://api.github.com/users/Jagdeep14/repos\n",
       "  payload.member.events_url                              \n",
       "1 NA                                                     \n",
       "2 https://api.github.com/users/LunarNode/events{/privacy}\n",
       "3 https://api.github.com/users/Jagdeep14/events{/privacy}\n",
       "  payload.member.received_events_url                     payload.member.type\n",
       "1 NA                                                     NA                 \n",
       "2 https://api.github.com/users/LunarNode/received_events User               \n",
       "3 https://api.github.com/users/Jagdeep14/received_events User               \n",
       "  payload.member.site_admin org.id   org.login     org.gravatar_id\n",
       "1    NA                     87037946 ubco-mds-2021                \n",
       "2 FALSE                     87037946 ubco-mds-2021                \n",
       "3 FALSE                     87037946 ubco-mds-2021                \n",
       "  org.url                                  \n",
       "1 https://api.github.com/orgs/ubco-mds-2021\n",
       "2 https://api.github.com/orgs/ubco-mds-2021\n",
       "3 https://api.github.com/orgs/ubco-mds-2021\n",
       "  org.avatar_url                                   \n",
       "1 https://avatars.githubusercontent.com/u/87037946?\n",
       "2 https://avatars.githubusercontent.com/u/87037946?\n",
       "3 https://avatars.githubusercontent.com/u/87037946?"
      ]
     },
     "metadata": {},
     "output_type": "display_data"
    }
   ],
   "source": [
    "ff <- github_lastn_events_df(\"organization\",102,organization=\"ubco-mds-2021\")\n",
    "ff"
   ]
  },
  {
   "cell_type": "code",
   "execution_count": 49,
   "id": "bad57d49-029d-4c26-b54b-24f22ed05c77",
   "metadata": {},
   "outputs": [],
   "source": [
    "cc <- github_count_events_bytype(\"all public\",102)"
   ]
  },
  {
   "cell_type": "code",
   "execution_count": 50,
   "id": "acd8903b-5460-46cd-849b-bb8be70a836b",
   "metadata": {},
   "outputs": [
    {
     "data": {
      "text/html": [
       "<table class=\"dataframe\">\n",
       "<caption>A data.frame: 12 × 2</caption>\n",
       "<thead>\n",
       "\t<tr><th scope=col>type</th><th scope=col>count</th></tr>\n",
       "\t<tr><th scope=col>&lt;chr&gt;</th><th scope=col>&lt;int&gt;</th></tr>\n",
       "</thead>\n",
       "<tbody>\n",
       "\t<tr><td>CommitCommentEvent           </td><td> 1</td></tr>\n",
       "\t<tr><td>CreateEvent                  </td><td>15</td></tr>\n",
       "\t<tr><td>DeleteEvent                  </td><td> 4</td></tr>\n",
       "\t<tr><td>ForkEvent                    </td><td> 2</td></tr>\n",
       "\t<tr><td>IssueCommentEvent            </td><td> 8</td></tr>\n",
       "\t<tr><td>IssuesEvent                  </td><td> 4</td></tr>\n",
       "\t<tr><td>PullRequestEvent             </td><td>16</td></tr>\n",
       "\t<tr><td>PullRequestReviewCommentEvent</td><td> 2</td></tr>\n",
       "\t<tr><td>PullRequestReviewEvent       </td><td> 3</td></tr>\n",
       "\t<tr><td>PushEvent                    </td><td>41</td></tr>\n",
       "\t<tr><td>ReleaseEvent                 </td><td> 3</td></tr>\n",
       "\t<tr><td>WatchEvent                   </td><td> 3</td></tr>\n",
       "</tbody>\n",
       "</table>\n"
      ],
      "text/latex": [
       "A data.frame: 12 × 2\n",
       "\\begin{tabular}{ll}\n",
       " type & count\\\\\n",
       " <chr> & <int>\\\\\n",
       "\\hline\n",
       "\t CommitCommentEvent            &  1\\\\\n",
       "\t CreateEvent                   & 15\\\\\n",
       "\t DeleteEvent                   &  4\\\\\n",
       "\t ForkEvent                     &  2\\\\\n",
       "\t IssueCommentEvent             &  8\\\\\n",
       "\t IssuesEvent                   &  4\\\\\n",
       "\t PullRequestEvent              & 16\\\\\n",
       "\t PullRequestReviewCommentEvent &  2\\\\\n",
       "\t PullRequestReviewEvent        &  3\\\\\n",
       "\t PushEvent                     & 41\\\\\n",
       "\t ReleaseEvent                  &  3\\\\\n",
       "\t WatchEvent                    &  3\\\\\n",
       "\\end{tabular}\n"
      ],
      "text/markdown": [
       "\n",
       "A data.frame: 12 × 2\n",
       "\n",
       "| type &lt;chr&gt; | count &lt;int&gt; |\n",
       "|---|---|\n",
       "| CommitCommentEvent            |  1 |\n",
       "| CreateEvent                   | 15 |\n",
       "| DeleteEvent                   |  4 |\n",
       "| ForkEvent                     |  2 |\n",
       "| IssueCommentEvent             |  8 |\n",
       "| IssuesEvent                   |  4 |\n",
       "| PullRequestEvent              | 16 |\n",
       "| PullRequestReviewCommentEvent |  2 |\n",
       "| PullRequestReviewEvent        |  3 |\n",
       "| PushEvent                     | 41 |\n",
       "| ReleaseEvent                  |  3 |\n",
       "| WatchEvent                    |  3 |\n",
       "\n"
      ],
      "text/plain": [
       "   type                          count\n",
       "1  CommitCommentEvent             1   \n",
       "2  CreateEvent                   15   \n",
       "3  DeleteEvent                    4   \n",
       "4  ForkEvent                      2   \n",
       "5  IssueCommentEvent              8   \n",
       "6  IssuesEvent                    4   \n",
       "7  PullRequestEvent              16   \n",
       "8  PullRequestReviewCommentEvent  2   \n",
       "9  PullRequestReviewEvent         3   \n",
       "10 PushEvent                     41   \n",
       "11 ReleaseEvent                   3   \n",
       "12 WatchEvent                     3   "
      ]
     },
     "metadata": {},
     "output_type": "display_data"
    }
   ],
   "source": [
    "cc"
   ]
  },
  {
   "cell_type": "code",
   "execution_count": 51,
   "id": "dcb27f26-90ac-474a-a9a3-32292efa633c",
   "metadata": {},
   "outputs": [],
   "source": [
    "testit <- github_lastn_events_df(\"all public\",102)"
   ]
  },
  {
   "cell_type": "code",
   "execution_count": 53,
   "id": "979bf409-bea5-442a-888c-745a4fdaf745",
   "metadata": {},
   "outputs": [],
   "source": [
    "# testit"
   ]
  },
  {
   "cell_type": "code",
   "execution_count": 54,
   "id": "e943a5c7-0a06-4cc3-b154-e49e053a697f",
   "metadata": {},
   "outputs": [
    {
     "data": {
      "text/html": [
       "102"
      ],
      "text/latex": [
       "102"
      ],
      "text/markdown": [
       "102"
      ],
      "text/plain": [
       "[1] 102"
      ]
     },
     "metadata": {},
     "output_type": "display_data"
    }
   ],
   "source": [
    "sum(cc[,\"count\"])"
   ]
  },
  {
   "cell_type": "code",
   "execution_count": 155,
   "id": "d383e2a6-ae4d-4ebf-a1cb-4030d71c2a7d",
   "metadata": {},
   "outputs": [],
   "source": [
    "# options(repr.plot.width=10, repr.plot.height=5, repr.plot.res = 300)\n",
    "# ggplot2::ggplot(testit, ggplot2::aes(x = type, y = count)) + ggplot2::geom_bar(stat=\"identity\") "
   ]
  },
  {
   "cell_type": "code",
   "execution_count": 55,
   "id": "dc97c36e-019b-48f9-843f-2062622ea9c3",
   "metadata": {},
   "outputs": [],
   "source": [
    "# testit |> dplyr::mutate(date = lubridate::wday(lubridate::ymd(as.POSIXlt(created_at)),label=TRUE))"
   ]
  },
  {
   "cell_type": "code",
   "execution_count": 56,
   "id": "10135cfd-e2a0-4039-ba56-04653f0d5dba",
   "metadata": {},
   "outputs": [],
   "source": [
    "# wday(ymd(as.POSIXlt(testit[,created_at])),label=TRUE)"
   ]
  },
  {
   "cell_type": "code",
   "execution_count": 57,
   "id": "254e707f-f8a8-4901-b974-d31466d67fd3",
   "metadata": {},
   "outputs": [],
   "source": [
    "github_count_events_bydate <- function(range, max_event_num, owner = \"\", repo = \"\", organization = \"\", event_type = \"all\"){\n",
    "   \n",
    "    \n",
    "    binded_df <- github_lastn_events_df(range,max_event_num,owner,repo,organization)\n",
    "    if (event_type == \"all\") {\n",
    "        binded_df <- binded_df |> dplyr::mutate(date = lubridate::ymd(as.POSIXlt(created_at)))\n",
    "    } else {\n",
    "        binded_df <- binded_df |> dplyr::filter(type == event_type) |> dplyr::mutate(date = lubridate::ymd(as.POSIXlt(created_at)))\n",
    "    }\n",
    "    \n",
    "    result <- binded_df |> dplyr::count(date, name = \"count\")\n",
    "    result\n",
    "    \n",
    "}"
   ]
  },
  {
   "cell_type": "code",
   "execution_count": 58,
   "id": "2569f059-663b-45be-8479-ec51d2beea7f",
   "metadata": {},
   "outputs": [],
   "source": [
    "github_count_events_byweekday <- function(range, max_event_num, owner = \"\", repo = \"\", organization = \"\", event_type = \"all\", return_type = \"dataframe\"){\n",
    "   \n",
    "    \n",
    "    binded_df <- github_lastn_events_df(range,max_event_num,owner,repo,organization)\n",
    "    if (event_type == \"all\") {\n",
    "        binded_df <- binded_df |> dplyr::mutate(weekdays = lubridate::wday(lubridate::ymd(as.POSIXlt(created_at)),label=TRUE))\n",
    "    } else {\n",
    "        binded_df <- binded_df |> dplyr::filter(type == event_type) |> dplyr::mutate(weekdays = lubridate::wday(lubridate::ymd(as.POSIXlt(created_at)),label=TRUE))\n",
    "    }\n",
    "    \n",
    "    counted_df <- binded_df |> dplyr::count(weekdays, name = \"count\")\n",
    "    \n",
    "    if (return_type == \"plot\") {\n",
    "        result <- ggplot2::ggplot(counted_df, ggplot2::aes(x = weekdays, y = count)) + ggplot2::geom_bar(stat=\"identity\") \n",
    "    } else {\n",
    "        result <- counted_df\n",
    "    }\n",
    "    \n",
    "    result\n",
    "}"
   ]
  },
  {
   "cell_type": "code",
   "execution_count": 59,
   "id": "628b4ddf-3294-497c-b0f3-9a0b99061555",
   "metadata": {},
   "outputs": [
    {
     "data": {
      "text/html": [
       "<table class=\"dataframe\">\n",
       "<caption>A data.frame: 7 × 2</caption>\n",
       "<thead>\n",
       "\t<tr><th scope=col>weekdays</th><th scope=col>count</th></tr>\n",
       "\t<tr><th scope=col>&lt;ord&gt;</th><th scope=col>&lt;int&gt;</th></tr>\n",
       "</thead>\n",
       "<tbody>\n",
       "\t<tr><td>Sun</td><td> 3</td></tr>\n",
       "\t<tr><td>Mon</td><td>11</td></tr>\n",
       "\t<tr><td>Tue</td><td>20</td></tr>\n",
       "\t<tr><td>Wed</td><td>21</td></tr>\n",
       "\t<tr><td>Thu</td><td>18</td></tr>\n",
       "\t<tr><td>Fri</td><td>20</td></tr>\n",
       "\t<tr><td>Sat</td><td> 9</td></tr>\n",
       "</tbody>\n",
       "</table>\n"
      ],
      "text/latex": [
       "A data.frame: 7 × 2\n",
       "\\begin{tabular}{ll}\n",
       " weekdays & count\\\\\n",
       " <ord> & <int>\\\\\n",
       "\\hline\n",
       "\t Sun &  3\\\\\n",
       "\t Mon & 11\\\\\n",
       "\t Tue & 20\\\\\n",
       "\t Wed & 21\\\\\n",
       "\t Thu & 18\\\\\n",
       "\t Fri & 20\\\\\n",
       "\t Sat &  9\\\\\n",
       "\\end{tabular}\n"
      ],
      "text/markdown": [
       "\n",
       "A data.frame: 7 × 2\n",
       "\n",
       "| weekdays &lt;ord&gt; | count &lt;int&gt; |\n",
       "|---|---|\n",
       "| Sun |  3 |\n",
       "| Mon | 11 |\n",
       "| Tue | 20 |\n",
       "| Wed | 21 |\n",
       "| Thu | 18 |\n",
       "| Fri | 20 |\n",
       "| Sat |  9 |\n",
       "\n"
      ],
      "text/plain": [
       "  weekdays count\n",
       "1 Sun       3   \n",
       "2 Mon      11   \n",
       "3 Tue      20   \n",
       "4 Wed      21   \n",
       "5 Thu      18   \n",
       "6 Fri      20   \n",
       "7 Sat       9   "
      ]
     },
     "metadata": {},
     "output_type": "display_data"
    }
   ],
   "source": [
    "github_count_events_byweekday(\"repository\",102,\"WestHealth\",\"pyvis\")"
   ]
  },
  {
   "cell_type": "code",
   "execution_count": 60,
   "id": "2b6b0c77-f25c-41ea-b2db-28c25ae313bf",
   "metadata": {},
   "outputs": [
    {
     "data": {
      "image/png": "[encoded data removed]",
      "text/plain": [
       "plot without title"
      ]
     },
     "metadata": {
      "image/png": {
       "height": 420,
       "width": 420
      }
     },
     "output_type": "display_data"
    }
   ],
   "source": [
    "github_count_events_byweekday(\"repository\",102,\"WestHealth\",\"pyvis\",return_type = \"plot\")"
   ]
  },
  {
   "cell_type": "code",
   "execution_count": 61,
   "id": "b4f895c4-7aec-4f97-b7e4-ec0c45ece5a1",
   "metadata": {},
   "outputs": [
    {
     "data": {
      "text/html": [
       "<table class=\"dataframe\">\n",
       "<caption>A data.frame: 7 × 2</caption>\n",
       "<thead>\n",
       "\t<tr><th scope=col>type</th><th scope=col>count</th></tr>\n",
       "\t<tr><th scope=col>&lt;chr&gt;</th><th scope=col>&lt;int&gt;</th></tr>\n",
       "</thead>\n",
       "<tbody>\n",
       "\t<tr><td>ForkEvent        </td><td>10</td></tr>\n",
       "\t<tr><td>IssueCommentEvent</td><td>28</td></tr>\n",
       "\t<tr><td>IssuesEvent      </td><td>14</td></tr>\n",
       "\t<tr><td>MemberEvent      </td><td> 1</td></tr>\n",
       "\t<tr><td>PullRequestEvent </td><td> 5</td></tr>\n",
       "\t<tr><td>PushEvent        </td><td> 3</td></tr>\n",
       "\t<tr><td>WatchEvent       </td><td>41</td></tr>\n",
       "</tbody>\n",
       "</table>\n"
      ],
      "text/latex": [
       "A data.frame: 7 × 2\n",
       "\\begin{tabular}{ll}\n",
       " type & count\\\\\n",
       " <chr> & <int>\\\\\n",
       "\\hline\n",
       "\t ForkEvent         & 10\\\\\n",
       "\t IssueCommentEvent & 28\\\\\n",
       "\t IssuesEvent       & 14\\\\\n",
       "\t MemberEvent       &  1\\\\\n",
       "\t PullRequestEvent  &  5\\\\\n",
       "\t PushEvent         &  3\\\\\n",
       "\t WatchEvent        & 41\\\\\n",
       "\\end{tabular}\n"
      ],
      "text/markdown": [
       "\n",
       "A data.frame: 7 × 2\n",
       "\n",
       "| type &lt;chr&gt; | count &lt;int&gt; |\n",
       "|---|---|\n",
       "| ForkEvent         | 10 |\n",
       "| IssueCommentEvent | 28 |\n",
       "| IssuesEvent       | 14 |\n",
       "| MemberEvent       |  1 |\n",
       "| PullRequestEvent  |  5 |\n",
       "| PushEvent         |  3 |\n",
       "| WatchEvent        | 41 |\n",
       "\n"
      ],
      "text/plain": [
       "  type              count\n",
       "1 ForkEvent         10   \n",
       "2 IssueCommentEvent 28   \n",
       "3 IssuesEvent       14   \n",
       "4 MemberEvent        1   \n",
       "5 PullRequestEvent   5   \n",
       "6 PushEvent          3   \n",
       "7 WatchEvent        41   "
      ]
     },
     "metadata": {},
     "output_type": "display_data"
    }
   ],
   "source": [
    "github_count_events_bytype(\"repository\",102,\"WestHealth\",\"pyvis\")"
   ]
  },
  {
   "cell_type": "code",
   "execution_count": 66,
   "id": "b597d2d7-bef9-4323-a5fd-095d6f40dc1e",
   "metadata": {},
   "outputs": [],
   "source": [
    "sum1 <- github_count_events_bydate(\"repository\",102,\"WestHealth\",\"pyvis\",event_type = \"WatchEvent\")"
   ]
  },
  {
   "cell_type": "code",
   "execution_count": 65,
   "id": "2a078eb0-51ae-42c0-bbec-b71df4d0772b",
   "metadata": {},
   "outputs": [],
   "source": [
    "sum2 <- github_count_events_byweekday(\"repository\",102,\"WestHealth\",\"pyvis\",event_type = \"WatchEvent\")"
   ]
  },
  {
   "cell_type": "code",
   "execution_count": 67,
   "id": "acd1f043-314b-4ad0-9afe-49ca39942e9e",
   "metadata": {},
   "outputs": [
    {
     "data": {
      "text/html": [
       "41"
      ],
      "text/latex": [
       "41"
      ],
      "text/markdown": [
       "41"
      ],
      "text/plain": [
       "[1] 41"
      ]
     },
     "metadata": {},
     "output_type": "display_data"
    }
   ],
   "source": [
    "sum(sum1[,\"count\"])"
   ]
  },
  {
   "cell_type": "code",
   "execution_count": 68,
   "id": "00ce73d5-b2b7-4c8f-8725-3b148b9bd970",
   "metadata": {},
   "outputs": [
    {
     "data": {
      "text/html": [
       "41"
      ],
      "text/latex": [
       "41"
      ],
      "text/markdown": [
       "41"
      ],
      "text/plain": [
       "[1] 41"
      ]
     },
     "metadata": {},
     "output_type": "display_data"
    }
   ],
   "source": [
    "sum(sum2[,\"count\"])"
   ]
  },
  {
   "cell_type": "code",
   "execution_count": null,
   "id": "5658b4a2-90c5-4cca-bc76-35aec8cea225",
   "metadata": {},
   "outputs": [],
   "source": []
  }
 ],
 "metadata": {
  "kernelspec": {
   "display_name": "R",
   "language": "R",
   "name": "ir"
  },
  "language_info": {
   "codemirror_mode": "r",
   "file_extension": ".r",
   "mimetype": "text/x-r-source",
   "name": "R",
   "pygments_lexer": "r",
   "version": "4.1.2"
  }
 },
 "nbformat": 4,
 "nbformat_minor": 5
}
